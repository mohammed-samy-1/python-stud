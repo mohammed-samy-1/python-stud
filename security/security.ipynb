{
 "cells": [
  {
   "cell_type": "markdown",
   "source": [
    "# <center>Ceaser Cipher</center>"
   ],
   "metadata": {
    "collapsed": false
   }
  },
  {
   "cell_type": "code",
   "execution_count": 30,
   "metadata": {
    "collapsed": true
   },
   "outputs": [
    {
     "name": "stdout",
     "output_type": "stream",
     "text": [
      "The modular inverse of 9 modulo 26 is: 3\n"
     ]
    }
   ],
   "source": [
    "import string\n",
    "\n",
    "def get_dicts():\n",
    "    d_1 = {key: val for val, key in enumerate(string.ascii_lowercase)}\n",
    "    d_2 = {key: val for key, val in enumerate(string.ascii_lowercase)}\n",
    "    return d_1 , d_2\n",
    "\n",
    "def gcd(a, b):\n",
    "    if b >= a:\n",
    "        return None\n",
    "    if b == 0:\n",
    "        return a\n",
    "    return gcd(b, a%b)\n",
    "\n",
    "# def moduls_inverse(a, n):\n",
    "#     counter = 0\n",
    "#     c1 = [n, a]\n",
    "#     c2 = []\n",
    "#     c3 = []\n",
    "#     while True:\n",
    "#         c2.append(c1[counter]/c1[counter+1])\n",
    "#         c1.append(c1[counter]%c1[counter+1])\n",
    "#         counter += 1\n",
    "#         if c1[-1] == 0:\n",
    "#             break\n",
    "#     c3.append(c1[-1:-2:-1])\n",
    "#     for i in range(len(c1 - 1)):\n",
    "\n",
    "def mod_inverse(a, n):\n",
    "    return pow(a, -1, n)\n",
    "# def mod_inverse(a, n):\n",
    "#     g, x, y = extended_gcd(a, n)\n",
    "#     if g != 1:\n",
    "#         raise Exception(\"Modular inverse does not exist\")\n",
    "#     else:\n",
    "#         return x % n\n",
    "#\n",
    "# def extended_gcd(a, b):\n",
    "#     if a == 0:\n",
    "#         return b, 0, 1\n",
    "#     else:\n",
    "#         g, x, y = extended_gcd(b % a, a)\n",
    "#         return g, y - (b // a) * x, x\n",
    "\n",
    "# Example usage:\n",
    "a = 9\n",
    "n = 26\n",
    "inverse_a = mod_inverse(a, n)\n",
    "\n",
    "print(f\"The modular inverse of {a} modulo {n} is: {inverse_a}\")\n"
   ]
  },
  {
   "cell_type": "code",
   "execution_count": 31,
   "outputs": [],
   "source": [
    "def ceaser_cipher(pt , k):\n",
    "    d_1, d_2 = get_dicts()\n",
    "    ct = ''\n",
    "    pl = pt.split()\n",
    "    for w in pl:\n",
    "        for ch in w :\n",
    "            ct += d_2[(d_1[ch] + k) % 26]\n",
    "        ct += ' '\n",
    "    return ct.rstrip()\n",
    "\n",
    "def ceaser_decipher(ct, k):\n",
    "    d_1, d_2 = get_dicts()\n",
    "    pt = ''\n",
    "    cl = ct.split()\n",
    "    for w in cl:\n",
    "        for ch in w:\n",
    "            pt += d_2[(d_1[ch] - k) % 26]\n",
    "        pt += ' '\n",
    "\n",
    "    return pt.rstrip()"
   ],
   "metadata": {
    "collapsed": false
   }
  },
  {
   "cell_type": "code",
   "execution_count": 32,
   "outputs": [
    {
     "data": {
      "text/plain": "('mjqqt', 'hello')"
     },
     "execution_count": 32,
     "metadata": {},
     "output_type": "execute_result"
    }
   ],
   "source": [
    "p = input(\"input a word: \")\n",
    "k = int(input(\"please enter key: \"))\n",
    "c = ceaser_cipher(p, k)\n",
    "p2 = ceaser_decipher(c, k)\n",
    "c, p2"
   ],
   "metadata": {
    "collapsed": false
   }
  },
  {
   "cell_type": "markdown",
   "source": [
    "# <center>Vigenere Cipher</center>"
   ],
   "metadata": {
    "collapsed": false
   }
  },
  {
   "cell_type": "code",
   "execution_count": 33,
   "outputs": [],
   "source": [
    "def vigenere_cipher(pt:str, k:str):\n",
    "    d_1, d_2 = get_dicts()\n",
    "    ct = \"\"\n",
    "    pl = pt.split()\n",
    "    for w in pl :\n",
    "        if len(w) != len(k):\n",
    "            return None\n",
    "        for i in range(len(w)):\n",
    "            ct += d_2[(d_1[w[i]] + d_1[k[i]]) % 26]\n",
    "        ct += ' '\n",
    "    return ct.rstrip()\n",
    "def vigenere_decipher(ct:str, k:str):\n",
    "    d_1, d_2 = get_dicts()\n",
    "    pt = \"\"\n",
    "    cl = ct.split()\n",
    "    for w in cl :\n",
    "        if len(w) != len(k):\n",
    "            return None\n",
    "        for i in range(len(w)):\n",
    "            pt += d_2[(d_1[w[i]] - d_1[k[i]]) % 26]\n",
    "        pt += ' '\n",
    "    return pt.rstrip()\n",
    "\n"
   ],
   "metadata": {
    "collapsed": false
   }
  },
  {
   "cell_type": "code",
   "execution_count": 34,
   "outputs": [
    {
     "data": {
      "text/plain": "('ii ii', 'hi hi')"
     },
     "execution_count": 34,
     "metadata": {},
     "output_type": "execute_result"
    }
   ],
   "source": [
    "cv = vigenere_cipher('hi hi', 'ba')\n",
    "pv = vigenere_decipher(cv , 'ba')\n",
    "cv,pv"
   ],
   "metadata": {
    "collapsed": false
   }
  },
  {
   "cell_type": "markdown",
   "source": [
    "# <center>AutoKey Cipher</center>"
   ],
   "metadata": {
    "collapsed": false
   }
  },
  {
   "cell_type": "code",
   "execution_count": 35,
   "outputs": [],
   "source": [
    "def autokey_cipher(pt: str, k: str):\n",
    "    d_1, d_2 = get_dicts()\n",
    "    ak = k + pt[:-1]\n",
    "    ct = ''\n",
    "    for i in range(len(pt)):\n",
    "        ct += d_2[(d_1[pt[i]] + d_1[ak[i]]) % 26]\n",
    "    return ct\n",
    "def autokey_decipher(ct: str, k: str):\n",
    "    d_1, d_2 = get_dicts()\n",
    "    ak = k\n",
    "    pt = ''\n",
    "    for i in range(len(ct)):\n",
    "        pt += d_2[(d_1[ct[i]] - d_1[ak[i]]) % 26]\n",
    "        ak += pt[-1]\n",
    "    return pt\n"
   ],
   "metadata": {
    "collapsed": false
   }
  },
  {
   "cell_type": "code",
   "execution_count": 36,
   "outputs": [
    {
     "data": {
      "text/plain": "('mlpa', 'help')"
     },
     "execution_count": 36,
     "metadata": {},
     "output_type": "execute_result"
    }
   ],
   "source": [
    "ca = autokey_cipher('help', 'f')\n",
    "pa = autokey_decipher(ca, 'f')\n",
    "ca, pa"
   ],
   "metadata": {
    "collapsed": false
   }
  },
  {
   "cell_type": "markdown",
   "source": [
    "# <center>Affine Cipher</center>"
   ],
   "metadata": {
    "collapsed": false
   }
  },
  {
   "cell_type": "code",
   "execution_count": 37,
   "outputs": [],
   "source": [
    "def affine(pt:str, k: tuple):\n",
    "    a = k[0]\n",
    "    b = k[1]\n",
    "    if gcd(26, a) != 1:\n",
    "        return None\n",
    "    d_1, d_2 = get_dicts()\n",
    "    ct = ''\n",
    "    for ch in pt:\n",
    "        ct += d_2[((d_1[ch] * a) + b)% 26]\n",
    "    return ct\n",
    "def affine_decipher(ct:str, k: tuple):\n",
    "    a = k[0]\n",
    "    b = k[1]\n",
    "    if gcd(26, a) != 1:\n",
    "        return None\n",
    "    d_1, d_2 = get_dicts()\n",
    "    pt = ''\n",
    "    for ch in ct:\n",
    "        pt += d_2[mod_inverse(a, 26)* (d_1[ch] - b) % 26]\n",
    "    return pt\n"
   ],
   "metadata": {
    "collapsed": false
   }
  },
  {
   "cell_type": "code",
   "execution_count": 41,
   "outputs": [
    {
     "data": {
      "text/plain": "('ikz', 'war')"
     },
     "execution_count": 41,
     "metadata": {},
     "output_type": "execute_result"
    }
   ],
   "source": [
    "caF = affine('war', (7, 10))\n",
    "paF = affine_decipher(caF, (7, 10))\n",
    "caF, paF"
   ],
   "metadata": {
    "collapsed": false
   }
  },
  {
   "cell_type": "markdown",
   "source": [
    "# <center>Hill Cipher</center>"
   ],
   "metadata": {
    "collapsed": false
   }
  },
  {
   "cell_type": "code",
   "execution_count": 42,
   "outputs": [],
   "source": [
    "import numpy as np\n",
    "def hill_cipher(pt:str, k:np.matrix):\n",
    "    size = k.size\n",
    "    num_mats = 0\n",
    "    if len(pt) % size == 0:\n",
    "        num_mats = len(pt) // size\n",
    "    else:\n",
    "        pt *= 'z' * (size - (len(pt) % size))\n",
    "        num_mats = len(pt) // size\n",
    "    pm = np.array(list(pt))\n",
    "    pm = pm.reshape(k.shape[0], k.shape[1], num_mats)\n",
    "    ct = ''\n",
    "    for m in pm:\n",
    "        np.dot(m.T, k).reshape(1)\n",
    "    return ct"
   ],
   "metadata": {
    "collapsed": false
   }
  },
  {
   "cell_type": "code",
   "execution_count": 43,
   "outputs": [
    {
     "ename": "ValueError",
     "evalue": "data type must provide an itemsize",
     "output_type": "error",
     "traceback": [
      "\u001B[1;31m---------------------------------------------------------------------------\u001B[0m",
      "\u001B[1;31mValueError\u001B[0m                                Traceback (most recent call last)",
      "Cell \u001B[1;32mIn[43], line 1\u001B[0m\n\u001B[1;32m----> 1\u001B[0m \u001B[43mhill_cipher\u001B[49m\u001B[43m(\u001B[49m\u001B[38;5;124;43m'\u001B[39;49m\u001B[38;5;124;43mhell\u001B[39;49m\u001B[38;5;124;43m'\u001B[39;49m\u001B[43m,\u001B[49m\u001B[43m \u001B[49m\u001B[43mnp\u001B[49m\u001B[38;5;241;43m.\u001B[39;49m\u001B[43mmatrix\u001B[49m\u001B[43m(\u001B[49m\u001B[43m[\u001B[49m\u001B[43m[\u001B[49m\u001B[38;5;241;43m1\u001B[39;49m\u001B[43m,\u001B[49m\u001B[38;5;241;43m2\u001B[39;49m\u001B[43m]\u001B[49m\u001B[43m,\u001B[49m\u001B[43m \u001B[49m\u001B[43m[\u001B[49m\u001B[38;5;241;43m3\u001B[39;49m\u001B[43m,\u001B[49m\u001B[38;5;241;43m4\u001B[39;49m\u001B[43m]\u001B[49m\u001B[43m]\u001B[49m\u001B[43m)\u001B[49m\u001B[43m)\u001B[49m\n",
      "Cell \u001B[1;32mIn[42], line 14\u001B[0m, in \u001B[0;36mhill_cipher\u001B[1;34m(pt, k)\u001B[0m\n\u001B[0;32m     12\u001B[0m ct \u001B[38;5;241m=\u001B[39m \u001B[38;5;124m'\u001B[39m\u001B[38;5;124m'\u001B[39m\n\u001B[0;32m     13\u001B[0m \u001B[38;5;28;01mfor\u001B[39;00m m \u001B[38;5;129;01min\u001B[39;00m pm:\n\u001B[1;32m---> 14\u001B[0m     \u001B[43mnp\u001B[49m\u001B[38;5;241;43m.\u001B[39;49m\u001B[43mdot\u001B[49m\u001B[43m(\u001B[49m\u001B[43mm\u001B[49m\u001B[38;5;241;43m.\u001B[39;49m\u001B[43mT\u001B[49m\u001B[43m,\u001B[49m\u001B[43m \u001B[49m\u001B[43mk\u001B[49m\u001B[43m)\u001B[49m\u001B[38;5;241m.\u001B[39mreshape(\u001B[38;5;241m1\u001B[39m)\n\u001B[0;32m     15\u001B[0m \u001B[38;5;28;01mreturn\u001B[39;00m ct\n",
      "\u001B[1;31mValueError\u001B[0m: data type must provide an itemsize"
     ]
    }
   ],
   "source": [
    "hill_cipher('hell', np.matrix([[1,2], [3,4]]))"
   ],
   "metadata": {
    "collapsed": false
   }
  },
  {
   "cell_type": "code",
   "execution_count": 44,
   "outputs": [
    {
     "ename": "ModuleNotFoundError",
     "evalue": "No module named 'RPi'",
     "output_type": "error",
     "traceback": [
      "\u001B[1;31m---------------------------------------------------------------------------\u001B[0m",
      "\u001B[1;31mModuleNotFoundError\u001B[0m                       Traceback (most recent call last)",
      "Cell \u001B[1;32mIn[44], line 1\u001B[0m\n\u001B[1;32m----> 1\u001B[0m \u001B[38;5;28;01mimport\u001B[39;00m \u001B[38;5;21;01mRPi\u001B[39;00m\u001B[38;5;21;01m.\u001B[39;00m\u001B[38;5;21;01mGPIO\u001B[39;00m \u001B[38;5;28;01mas\u001B[39;00m \u001B[38;5;21;01mGPIO\u001B[39;00m\n\u001B[0;32m      2\u001B[0m \u001B[38;5;28;01mimport\u001B[39;00m \u001B[38;5;21;01mtime\u001B[39;00m\n\u001B[0;32m      4\u001B[0m TRIG_PIN \u001B[38;5;241m=\u001B[39m \u001B[38;5;241m18\u001B[39m\n",
      "\u001B[1;31mModuleNotFoundError\u001B[0m: No module named 'RPi'"
     ]
    }
   ],
   "source": [
    "import RPi.GPIO as GPIO\n",
    "import time\n",
    "\n",
    "TRIG_PIN = 18\n",
    "ECHO_PIN = 24\n",
    "BUZZER_PIN = 23\n",
    "\n",
    "GPIO.setmode(GPIO.BCM)\n",
    "GPIO.setup(TRIG_PIN, GPIO.OUT)\n",
    "GPIO.setup(ECHO_PIN, GPIO.IN)\n",
    "GPIO.setup(BUZZER_PIN, GPIO.OUT)\n",
    "\n",
    "def measure_distance():\n",
    "    GPIO.output(TRIG_PIN, True)\n",
    "    time.sleep(0.00001)\n",
    "    GPIO.output(TRIG_PIN, False)\n",
    "\n",
    "    while GPIO.input(ECHO_PIN) == 0:\n",
    "        pulse_start_time = time.time()\n",
    "\n",
    "    while GPIO.input(ECHO_PIN) == 1:\n",
    "        pulse_end_time = time.time()\n",
    "\n",
    "    pulse_duration = pulse_end_time - pulse_start_time\n",
    "    distance = pulse_duration * 17150\n",
    "    distance = round(distance, 2)\n",
    "\n",
    "    return distance\n",
    "\n",
    "try:\n",
    "    while True:\n",
    "        distance = measure_distance()\n",
    "\n",
    "        if distance < 50:\n",
    "            GPIO.output(BUZZER_PIN, GPIO.HIGH)\n",
    "        else:\n",
    "            GPIO.output(BUZZER_PIN, GPIO.LOW)\n",
    "        print(f\"Distance: {distance} cm\")\n",
    "        time.sleep(0.1)\n",
    "\n",
    "except KeyboardInterrupt:\n",
    "    GPIO.cleanup()\n",
    "\n"
   ],
   "metadata": {
    "collapsed": false
   }
  },
  {
   "cell_type": "markdown",
   "source": [
    "# <center>RSA</center>"
   ],
   "metadata": {
    "collapsed": false
   }
  },
  {
   "cell_type": "code",
   "execution_count": 45,
   "outputs": [
    {
     "ename": "SyntaxError",
     "evalue": "invalid syntax (3867723171.py, line 2)",
     "output_type": "error",
     "traceback": [
      "\u001B[1;36m  Cell \u001B[1;32mIn[45], line 2\u001B[1;36m\u001B[0m\n\u001B[1;33m    def __init__(self, self.name, self.e, self.d):\u001B[0m\n\u001B[1;37m                           ^\u001B[0m\n\u001B[1;31mSyntaxError\u001B[0m\u001B[1;31m:\u001B[0m invalid syntax\n"
     ]
    }
   ],
   "source": [
    "class Person:\n",
    "    def __init__(self, name):\n",
    "        self.name = name\n",
    "    def create_key(self):\n",
    "        import numpy as np\n",
    "        \n",
    "\n",
    "\n"
   ],
   "metadata": {
    "collapsed": false
   }
  },
  {
   "cell_type": "code",
   "execution_count": null,
   "outputs": [],
   "source": [],
   "metadata": {
    "collapsed": false
   }
  }
 ],
 "metadata": {
  "kernelspec": {
   "display_name": "Python 3",
   "language": "python",
   "name": "python3"
  },
  "language_info": {
   "codemirror_mode": {
    "name": "ipython",
    "version": 2
   },
   "file_extension": ".py",
   "mimetype": "text/x-python",
   "name": "python",
   "nbconvert_exporter": "python",
   "pygments_lexer": "ipython2",
   "version": "2.7.6"
  }
 },
 "nbformat": 4,
 "nbformat_minor": 0
}
